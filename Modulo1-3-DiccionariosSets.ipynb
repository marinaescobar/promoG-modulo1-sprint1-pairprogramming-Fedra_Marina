{
 "cells": [
  {
   "cell_type": "markdown",
   "metadata": {},
   "source": [
    "## Ejercicios de diccionarios"
   ]
  },
  {
   "cell_type": "markdown",
   "metadata": {},
   "source": [
    "1. Crear un diccionario vacío sin ningún par clave-valor"
   ]
  },
  {
   "cell_type": "code",
   "execution_count": 13,
   "metadata": {},
   "outputs": [],
   "source": [
    "diccionario_1 = {}"
   ]
  },
  {
   "cell_type": "markdown",
   "metadata": {},
   "source": [
    "2. Crear un diccionario con elementos predefinidos"
   ]
  },
  {
   "cell_type": "code",
   "execution_count": 2,
   "metadata": {},
   "outputs": [],
   "source": [
    "diccionario_2 = {\"Red\":\"Rojo\", \"Orange\":\"Naranja\", \"Green\":\"Verde\", \"Purple\":\"Lila\", \"Black\":\"Negro\"}"
   ]
  },
  {
   "cell_type": "markdown",
   "metadata": {},
   "source": [
    "3. Acceder al valor de una clave de un diccionario"
   ]
  },
  {
   "cell_type": "code",
   "execution_count": 3,
   "metadata": {},
   "outputs": [
    {
     "data": {
      "text/plain": [
       "'Rojo'"
      ]
     },
     "execution_count": 3,
     "metadata": {},
     "output_type": "execute_result"
    }
   ],
   "source": [
    "# Pedimos al usuario qué quiere saber \n",
    "\n",
    "color_escogido = input(\"What colour do you want to translate in Spanish?\")\n",
    "\n",
    "diccionario_2.get(color_escogido, \"Not found\")"
   ]
  },
  {
   "cell_type": "markdown",
   "metadata": {},
   "source": [
    "4. Agregar un nuevo par clave-valor al diccionario"
   ]
  },
  {
   "cell_type": "code",
   "execution_count": 4,
   "metadata": {},
   "outputs": [
    {
     "data": {
      "text/plain": [
       "{'Red': 'Rojo',\n",
       " 'Orange': 'Naranja',\n",
       " 'Green': 'Verde',\n",
       " 'Purple': 'Lila',\n",
       " 'Black': 'Negro',\n",
       " 'Yellow': 'Amarillo'}"
      ]
     },
     "execution_count": 4,
     "metadata": {},
     "output_type": "execute_result"
    }
   ],
   "source": [
    "diccionario_2[\"Yellow\"] = \"Amarillo\"\n",
    "diccionario_2"
   ]
  },
  {
   "cell_type": "markdown",
   "metadata": {},
   "source": [
    "5. Actualizar el valor de una clave en un diccionario"
   ]
  },
  {
   "cell_type": "code",
   "execution_count": 5,
   "metadata": {},
   "outputs": [
    {
     "data": {
      "text/plain": [
       "{'Red': 'Rojo',\n",
       " 'Orange': 'Naranja',\n",
       " 'Green': 'Verde',\n",
       " 'Purple': 'Morado',\n",
       " 'Black': 'Negro',\n",
       " 'Yellow': 'Amarillo'}"
      ]
     },
     "execution_count": 5,
     "metadata": {},
     "output_type": "execute_result"
    }
   ],
   "source": [
    "diccionario_2[\"Purple\"] = \"Morado\"\n",
    "diccionario_2"
   ]
  },
  {
   "cell_type": "markdown",
   "metadata": {},
   "source": [
    "6. Eliminar un par valor-clave de un diccionario"
   ]
  },
  {
   "cell_type": "code",
   "execution_count": 6,
   "metadata": {},
   "outputs": [
    {
     "data": {
      "text/plain": [
       "'Verde'"
      ]
     },
     "execution_count": 6,
     "metadata": {},
     "output_type": "execute_result"
    }
   ],
   "source": [
    "# Pedimos al usuario qué quiere borrar \n",
    "\n",
    "color_escogido2 = input(\"What colour do you want to erase?\")\n",
    "\n",
    "diccionario_2.pop(color_escogido2)"
   ]
  },
  {
   "cell_type": "markdown",
   "metadata": {},
   "source": [
    "7. Verificar si una clave está presente en un diccionario"
   ]
  },
  {
   "cell_type": "code",
   "execution_count": 7,
   "metadata": {},
   "outputs": [
    {
     "data": {
      "text/plain": [
       "True"
      ]
     },
     "execution_count": 7,
     "metadata": {},
     "output_type": "execute_result"
    }
   ],
   "source": [
    "# Pedimos al usuario qué quiere buscar\n",
    "\n",
    "color_escogido3 = input(\"What colour do you want to search if it's in the dictionary?\")\n",
    "\n",
    "color_escogido3 in diccionario_2"
   ]
  },
  {
   "cell_type": "markdown",
   "metadata": {},
   "source": [
    "8. Obtener una lista de todas las claves de un diccionario"
   ]
  },
  {
   "cell_type": "code",
   "execution_count": 8,
   "metadata": {},
   "outputs": [
    {
     "data": {
      "text/plain": [
       "['Red', 'Orange', 'Purple', 'Black', 'Yellow']"
      ]
     },
     "execution_count": 8,
     "metadata": {},
     "output_type": "execute_result"
    }
   ],
   "source": [
    "list(diccionario_2.keys())"
   ]
  },
  {
   "cell_type": "markdown",
   "metadata": {},
   "source": [
    "9. Obtener una lista de todos los valores de un diccionario"
   ]
  },
  {
   "cell_type": "code",
   "execution_count": 9,
   "metadata": {},
   "outputs": [
    {
     "data": {
      "text/plain": [
       "['Rojo', 'Naranja', 'Morado', 'Negro', 'Amarillo']"
      ]
     },
     "execution_count": 9,
     "metadata": {},
     "output_type": "execute_result"
    }
   ],
   "source": [
    "list(diccionario_2.values())"
   ]
  },
  {
   "cell_type": "markdown",
   "metadata": {},
   "source": [
    "10. Utilizar el método `setdefault` para establecer un valor predeterminado si la clave no existe"
   ]
  },
  {
   "cell_type": "code",
   "execution_count": 10,
   "metadata": {},
   "outputs": [
    {
     "data": {
      "text/plain": [
       "'Verde'"
      ]
     },
     "execution_count": 10,
     "metadata": {},
     "output_type": "execute_result"
    }
   ],
   "source": [
    "diccionario_2.setdefault(\"Green\", \"Verde\")"
   ]
  },
  {
   "cell_type": "markdown",
   "metadata": {},
   "source": [
    "11. Manipulación de un diccionario utilizando `pop()` y `popitem()`. Observa cómo afecta al diccionario"
   ]
  },
  {
   "cell_type": "code",
   "execution_count": 11,
   "metadata": {},
   "outputs": [
    {
     "name": "stdout",
     "output_type": "stream",
     "text": [
      "{'Red': 'Rojo', 'Orange': 'Naranja', 'Purple': 'Morado', 'Black': 'Negro', 'Yellow': 'Amarillo', 'Green': 'Verde'}\n",
      "{'Red': 'Rojo', 'Purple': 'Morado', 'Black': 'Negro', 'Yellow': 'Amarillo', 'Green': 'Verde'}\n",
      "{'Red': 'Rojo', 'Purple': 'Morado', 'Black': 'Negro', 'Yellow': 'Amarillo'}\n"
     ]
    }
   ],
   "source": [
    "# Partiendo de la base:\n",
    "\n",
    "print(diccionario_2)\n",
    "\n",
    "# Vamos a utilizar pop para eliminar un elemento concreto \"Orange\"\n",
    "\n",
    "diccionario_2.pop(\"Orange\")\n",
    "\n",
    "# Comprobamos que el elemento ya no está en el diccionario\n",
    "\n",
    "print(diccionario_2)\n",
    "\n",
    "# Utilizamos popitem para eliminar el último clave-valor del diccionario. En este caso, afectará a \"Green\":\"Verde\"\n",
    "\n",
    "diccionario_2.popitem()\n",
    "\n",
    "print(diccionario_2)"
   ]
  },
  {
   "cell_type": "markdown",
   "metadata": {},
   "source": [
    "## Ejercicios sets"
   ]
  },
  {
   "cell_type": "markdown",
   "metadata": {},
   "source": [
    "1. Crear un conjunto vacío de sets"
   ]
  },
  {
   "cell_type": "code",
   "execution_count": 16,
   "metadata": {},
   "outputs": [],
   "source": [
    "set_1 = set()"
   ]
  },
  {
   "cell_type": "markdown",
   "metadata": {},
   "source": [
    "2. Crear un conjunto con elementos"
   ]
  },
  {
   "cell_type": "code",
   "execution_count": 18,
   "metadata": {},
   "outputs": [],
   "source": [
    "set_2 = {\"Lunes\", \"Martes\", \"Miércoles\", \"Jueves\", \"Viernes\"}"
   ]
  },
  {
   "cell_type": "markdown",
   "metadata": {},
   "source": [
    "3. Agregar elementos a un conjunto"
   ]
  },
  {
   "cell_type": "code",
   "execution_count": 19,
   "metadata": {},
   "outputs": [
    {
     "name": "stdout",
     "output_type": "stream",
     "text": [
      "{'Sábado', 'Martes', 'Miércoles', 'Jueves', 'Viernes', 'Lunes'}\n",
      "{'Festivos', 'Sábado', 'Domingo', 'Martes', 'Miércoles', 'Jueves', 'Viernes', 'Lunes'}\n"
     ]
    }
   ],
   "source": [
    "# Agregamos un único elemento\n",
    "\n",
    "set_2.add(\"Sábado\")\n",
    "print(set_2)\n",
    "\n",
    "# Agregamos múltiples elementos\n",
    "\n",
    "actualizacion_dias = [\"Domingo\", \"Festivos\"]\n",
    "set_2.update(actualizacion_dias)\n",
    "print(set_2)"
   ]
  },
  {
   "cell_type": "markdown",
   "metadata": {},
   "source": [
    "4. Eliminar un elemento de un conjunto"
   ]
  },
  {
   "cell_type": "code",
   "execution_count": 20,
   "metadata": {},
   "outputs": [
    {
     "name": "stdout",
     "output_type": "stream",
     "text": [
      "{'Festivos', 'Sábado', 'Domingo', 'Martes', 'Miércoles', 'Jueves', 'Viernes'}\n"
     ]
    }
   ],
   "source": [
    "# Pedimos al usuario qué elemento quiere eliminar\n",
    "\n",
    "dia_eliminar = input(\"¿Cuál es el día de la semana que menos te gusta?\")\n",
    "set_2.remove(dia_eliminar)\n",
    "\n",
    "print(set_2)"
   ]
  },
  {
   "cell_type": "markdown",
   "metadata": {},
   "source": [
    "5. Verificar la pertenencia de un elemento en un conjunto"
   ]
  },
  {
   "cell_type": "code",
   "execution_count": 21,
   "metadata": {},
   "outputs": [
    {
     "data": {
      "text/plain": [
       "True"
      ]
     },
     "execution_count": 21,
     "metadata": {},
     "output_type": "execute_result"
    }
   ],
   "source": [
    "# Queremos comprobar si \"Festivos\" está incluido en el diccionario\n",
    "\n",
    "\"Festivos\" in set_2 "
   ]
  },
  {
   "cell_type": "markdown",
   "metadata": {},
   "source": [
    "6. Realizar una unión de conjuntos"
   ]
  },
  {
   "cell_type": "code",
   "execution_count": 22,
   "metadata": {},
   "outputs": [
    {
     "name": "stdout",
     "output_type": "stream",
     "text": [
      "{'Festivos', 'Wednesday', 'Martes', 'Miércoles', 'Jueves', 'Monday', 'Sábado', 'Tuesday', 'Domingo', 'Viernes'}\n"
     ]
    }
   ],
   "source": [
    "# Creamos un nuevo set de conjuntos\n",
    "\n",
    "set_3 = {\"Monday\", \"Tuesday\", \"Wednesday\"}\n",
    "\n",
    "# Unimos ambos sets\n",
    "\n",
    "set_union = set_2.union(set_3)\n",
    "\n",
    "# Comprobamos\n",
    "\n",
    "print(set_union)"
   ]
  },
  {
   "cell_type": "markdown",
   "metadata": {},
   "source": [
    "7. Realizar una intersección de conjuntos"
   ]
  },
  {
   "cell_type": "code",
   "execution_count": 25,
   "metadata": {},
   "outputs": [
    {
     "name": "stdout",
     "output_type": "stream",
     "text": [
      "{'Tuesday', 'Wednesday', 'Monday'}\n"
     ]
    }
   ],
   "source": [
    "interseccion_sets = set_3.intersection(set_union)\n",
    "\n",
    "print(interseccion_sets)"
   ]
  },
  {
   "cell_type": "markdown",
   "metadata": {},
   "source": [
    "8. Realizar una diferencia de conjuntos"
   ]
  },
  {
   "cell_type": "code",
   "execution_count": 27,
   "metadata": {},
   "outputs": [
    {
     "name": "stdout",
     "output_type": "stream",
     "text": [
      "{'Festivos', 'Martes', 'Miércoles', 'Jueves', 'Sábado', 'Domingo', 'Viernes'}\n"
     ]
    }
   ],
   "source": [
    "diferencia_sets = set_union.difference(set_3)\n",
    "\n",
    "print(diferencia_sets)"
   ]
  },
  {
   "cell_type": "markdown",
   "metadata": {},
   "source": [
    "9. Verificar si un conjunto es un subconjunto de otro"
   ]
  },
  {
   "cell_type": "code",
   "execution_count": 28,
   "metadata": {},
   "outputs": [
    {
     "data": {
      "text/plain": [
       "True"
      ]
     },
     "execution_count": 28,
     "metadata": {},
     "output_type": "execute_result"
    }
   ],
   "source": [
    "set_3.issubset(set_union)"
   ]
  }
 ],
 "metadata": {
  "kernelspec": {
   "display_name": "adalabenv",
   "language": "python",
   "name": "python3"
  },
  "language_info": {
   "codemirror_mode": {
    "name": "ipython",
    "version": 3
   },
   "file_extension": ".py",
   "mimetype": "text/x-python",
   "name": "python",
   "nbconvert_exporter": "python",
   "pygments_lexer": "ipython3",
   "version": "3.9.7"
  }
 },
 "nbformat": 4,
 "nbformat_minor": 2
}
