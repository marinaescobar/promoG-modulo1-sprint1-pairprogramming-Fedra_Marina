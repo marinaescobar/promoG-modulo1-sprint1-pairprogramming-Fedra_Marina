{
 "cells": [
  {
   "cell_type": "code",
   "execution_count": 6,
   "metadata": {},
   "outputs": [
    {
     "name": "stdout",
     "output_type": "stream",
     "text": [
      "el numero es positivo\n"
     ]
    }
   ],
   "source": [
    "#1. verificar si un numero es positivo, negativo o cero\n",
    "#dado un numero verificar \n",
    "\n",
    "numero= 10\n",
    "\n",
    "if numero< 0: \n",
    "    print(\"el numero es negativo\")\n",
    "\n",
    "elif numero> 0: \n",
    "    print(\"el numero es positivo\")\n",
    "\n",
    "else:\n",
    "    print(\"el numero es cero\")\n"
   ]
  },
  {
   "cell_type": "code",
   "execution_count": 7,
   "metadata": {},
   "outputs": [
    {
     "name": "stdout",
     "output_type": "stream",
     "text": [
      "el numero es par\n"
     ]
    }
   ],
   "source": [
    "#2. verificar si un numero es par o impar \n",
    "\n",
    "if numero % 2==0:\n",
    "    print(\"el numero es par\")\n",
    "\n",
    "else:\n",
    "    print(\"el numero es impar\")\n",
    "    \n",
    "\n",
    "\n"
   ]
  },
  {
   "cell_type": "code",
   "execution_count": 8,
   "metadata": {},
   "outputs": [
    {
     "name": "stdout",
     "output_type": "stream",
     "text": [
      "has aprobado\n"
     ]
    }
   ],
   "source": [
    "# 3. verificar si un estudiante aprobo o suspendio un examen\n",
    "#si la calificacion es >=60 aprobado, si la calificacion es <60 suspendido\n",
    "\n",
    "calificacion= 75\n",
    "\n",
    "if calificacion>= 60:\n",
    "    print(\"has aprobado\")\n",
    "\n",
    "else: \n",
    "    print(\"has suspendido\")\n",
    "    "
   ]
  },
  {
   "cell_type": "code",
   "execution_count": null,
   "metadata": {},
   "outputs": [],
   "source": [
    "# 4. Calcular el maximo entre dos numeros \n",
    "\n",
    "numero3= 12345\n",
    "numero4= 7464\n"
   ]
  },
  {
   "cell_type": "code",
   "execution_count": 10,
   "metadata": {},
   "outputs": [
    {
     "name": "stdout",
     "output_type": "stream",
     "text": [
      " es una consonante\n"
     ]
    }
   ],
   "source": [
    "#5. verificar si una letra es vocal o consonante\n",
    "\n",
    "vocales= [\"A\",\"E\",\"I\",\"O\",\"U\"]\n",
    "letra = \"F\"\n",
    "\n",
    "if letra in vocales: \n",
    "    print(\"es una vocal\")\n",
    "\n",
    "else: \n",
    "    print(\" es una consonante\")\n"
   ]
  },
  {
   "cell_type": "code",
   "execution_count": 12,
   "metadata": {},
   "outputs": [
    {
     "name": "stdout",
     "output_type": "stream",
     "text": [
      "tu descuento es:30.0$\n"
     ]
    }
   ],
   "source": [
    "#6. calcular el descuento en una compra segun el monto total\n",
    "#condiciones: si el monto es >=100 dolares el descuento es del 10%, y sino, no hay descuento.\n",
    "\n",
    "monto= 300cd\n",
    "\n",
    "if monto>= 100: \n",
    "    descuento= monto * 0.10 \n",
    "    print(f\"tu descuento es:{descuento}$\")\n",
    "\n",
    "else:\n",
    "    print(\"no hay descuento\")\n"
   ]
  },
  {
   "cell_type": "code",
   "execution_count": 16,
   "metadata": {},
   "outputs": [
    {
     "name": "stdout",
     "output_type": "stream",
     "text": [
      "no es bisiesto\n"
     ]
    }
   ],
   "source": [
    "#7. verifica si un año es bisiesto o no\n",
    "# si es bisiesto tiene que ser divisible entre 4 excepto aquellos divisibles entre 100 pero no entre 400 \n",
    "\n",
    "año= 2023\n",
    "\n",
    "if (año % 4 == 0 and año % 100 != 0) or (año % 400 == 0):\n",
    "    print(\"es bisiesto\")\n",
    "\n",
    "else:\n",
    "    print(\"no es bisiesto\")\n",
    "\n",
    "\n",
    " "
   ]
  },
  {
   "cell_type": "code",
   "execution_count": 19,
   "metadata": {},
   "outputs": [
    {
     "name": "stdout",
     "output_type": "stream",
     "text": [
      "menor de edad\n"
     ]
    }
   ],
   "source": [
    "#8. asignar una categoria a una edad, si la edad es <18 , la categoria es menos de edad. y si la edad esta entre 18 y 64, entonces es adulto y el resto adulto mayor\n",
    "\n",
    "edad= 15\n",
    "\n",
    "if edad< 18: \n",
    "    print(\"menor de edad\")\n",
    "\n",
    "elif edad<=64:\n",
    "    print(\"adulto\")\n",
    "\n",
    "else:\n",
    "    print(\"adulto mayor\")\n",
    "\n"
   ]
  },
  {
   "cell_type": "code",
   "execution_count": 23,
   "metadata": {},
   "outputs": [
    {
     "name": "stdout",
     "output_type": "stream",
     "text": [
      "forman un triangulo rectangulo\n"
     ]
    }
   ],
   "source": [
    "#9. verificar si 3 numero forman un triangulo rectangulo \n",
    "#dado 3 numero verifica si se cumple el teorema de pitagoras \n",
    "\n",
    "triangulo1= 4\n",
    "triangulo2= 3 \n",
    "triangulo3= 5 \n",
    "\n",
    "if triangulo3**2 == (triangulo2**2 + triangulo1**2):\n",
    "    print(\"forman un triangulo rectangulo\")\n",
    "\n",
    "else: \n",
    "    print(\"no se cumple el teorema de pitagoras\")\n",
    "\n",
    "\n",
    "\n",
    "\n"
   ]
  },
  {
   "cell_type": "code",
   "execution_count": 25,
   "metadata": {},
   "outputs": [
    {
     "data": {
      "text/plain": [
       "'D'"
      ]
     },
     "execution_count": 25,
     "metadata": {},
     "output_type": "execute_result"
    }
   ],
   "source": [
    "#10- asignar una calificacion a una puntuacion : si la puntuacion es >= 90 es \"A\", si es >=80 es \"B\",  si es >=70 \"C\", si es >=60  es \"D\" y el resto es \"F\"\n",
    "\n",
    "puntuacion = int(input(\"indica tu puntuacion\"))\n",
    "\n",
    "\n",
    "if puntuacion >= 90:\n",
    "    calificacion = \"A\"\n",
    "\n",
    "elif puntuacion >= 80:\n",
    "    calificacion = \"B\"\n",
    "\n",
    "elif puntuacion >= 70:\n",
    "    calificacion = \"C\"\n",
    "\n",
    "elif puntuacion >= 60:\n",
    "    calificacion = \"D\"\n",
    "\n",
    "else: \n",
    "    calificacion = \"F\"\n",
    "\n",
    "\n",
    "\n",
    "\n",
    "calificacion \n",
    "\n"
   ]
  },
  {
   "cell_type": "code",
   "execution_count": 26,
   "metadata": {},
   "outputs": [
    {
     "name": "stdout",
     "output_type": "stream",
     "text": [
      "peso normal\n"
     ]
    }
   ],
   "source": [
    "#11. calcular el IMC y categorizarlo, si IMC< 18.5 \" es bajo peso\" , si IMC esta entre 18.5 y 24.9  entonces \"es peso normal\" si esta entre 25 y 29.9 entonce \"es sobrepeso\" y si no el resto obesidad \n",
    "\n",
    "peso = float(input(\"cuanto pesas?\")) \n",
    "altura = float(input(\"indica tu altura en metros\"))\n",
    "IMC = peso / altura ** 2\n",
    "\n",
    "if IMC < 18.5:\n",
    "    categoria = \"bajo peso\"\n",
    "\n",
    "elif IMC  <= 24.9: \n",
    "    categoria = \"peso normal\"\n",
    "\n",
    "elif IMC <= 29.9: \n",
    "    categoria = \"sobrepeso\"\n",
    "\n",
    "else:\n",
    "    categoria = \"obesidad\"\n",
    "\n",
    "print(categoria)\n",
    "\n",
    "\n",
    "\n"
   ]
  },
  {
   "cell_type": "code",
   "execution_count": 27,
   "metadata": {},
   "outputs": [
    {
     "name": "stdout",
     "output_type": "stream",
     "text": [
      "el mayor es 45\n"
     ]
    }
   ],
   "source": [
    "#12. calcular el mayo de tres numeros \n",
    "\n",
    "n1 = 45\n",
    "n2 = 10\n",
    "n3 = 34\n",
    "\n",
    "if n1 > n2 and n1 > n3:\n",
    "    print(\"el mayor es\", n1)\n",
    "\n",
    "elif n2 > n1 and n2 > n3: \n",
    "    print(\"el mayor es\", n2)\n",
    "\n",
    "else: \n",
    "    print(\"el mayor es\", n3)\n"
   ]
  }
 ],
 "metadata": {
  "kernelspec": {
   "display_name": "base",
   "language": "python",
   "name": "python3"
  },
  "language_info": {
   "codemirror_mode": {
    "name": "ipython",
    "version": 3
   },
   "file_extension": ".py",
   "mimetype": "text/x-python",
   "name": "python",
   "nbconvert_exporter": "python",
   "pygments_lexer": "ipython3",
   "version": "3.9.7"
  }
 },
 "nbformat": 4,
 "nbformat_minor": 2
}
