{
 "cells": [
  {
   "cell_type": "markdown",
   "metadata": {},
   "source": [
    "**Ejercicios variables**"
   ]
  },
  {
   "cell_type": "code",
   "execution_count": 10,
   "metadata": {},
   "outputs": [
    {
     "name": "stdout",
     "output_type": "stream",
     "text": [
      "False\n",
      "True\n",
      "False\n",
      "True\n"
     ]
    }
   ],
   "source": [
    "# Variables establecidas:\n",
    "numero1 = 8\n",
    "numero2 = 10\n",
    "numero3 = 5\n",
    "\n",
    "# Mayor que\n",
    "print(numero1 > numero2)\n",
    "\n",
    "# Menor que, pero mayor que\n",
    "print(numero1 < numero2 and numero1 > numero3)\n",
    "\n",
    "# Igual a\n",
    "print(numero3 == numero2)\n",
    "\n",
    "# Diferente de\n",
    "print(numero2 != numero1)"
   ]
  },
  {
   "cell_type": "code",
   "execution_count": 22,
   "metadata": {},
   "outputs": [
    {
     "name": "stdout",
     "output_type": "stream",
     "text": [
      "3.45\n",
      "0.34999999999999987\n",
      "0.34999999999999987\n",
      "1.2\n"
     ]
    }
   ],
   "source": [
    "# Variables tipo float:\n",
    "altura1 = 1.90\n",
    "altura2 = 1.55\n",
    "\n",
    "# Suma\n",
    "print(altura1 + altura2)\n",
    "\n",
    "# Resta\n",
    "print(altura1 - altura2)\n",
    "\n",
    "# Resto de la división\n",
    "print(altura1 % altura2)\n",
    "\n",
    "# División con resultado redondeado a 1 decimal\n",
    "print(round(altura1 / altura2, 1))"
   ]
  },
  {
   "cell_type": "code",
   "execution_count": 49,
   "metadata": {},
   "outputs": [
    {
     "name": "stdout",
     "output_type": "stream",
     "text": [
      "ELENA NITO DELBOSQUE\n",
      "elena nito delbosque\n",
      "Elena Nito Delbosque\n",
      "Elena nito delbosque\n"
     ]
    }
   ],
   "source": [
    "# Nombre de usuario:\n",
    "nombre_usuario = input(\"Indica tu nombre y apellidos\")\n",
    "\n",
    "# Poner el nombre del usuario en mayúsculas:\n",
    "print(nombre_usuario.upper())\n",
    "\n",
    "# Poner el nombre del usuario en minúsculas:\n",
    "print(nombre_usuario.lower())\n",
    "\n",
    "# Poner la primera letra de cada palabra en mayúscula:\n",
    "print(nombre_usuario.title())\n",
    "\n",
    "# Poner sólo la primera letra del texto en mayúscula:\n",
    "print(nombre_usuario.capitalize())"
   ]
  },
  {
   "cell_type": "code",
   "execution_count": 29,
   "metadata": {},
   "outputs": [
    {
     "name": "stdout",
     "output_type": "stream",
     "text": [
      "HolA buenos díAs\n"
     ]
    }
   ],
   "source": [
    "# Frase y vocal:\n",
    "frase = input(\"Escribe una frase\")\n",
    "vocal = input(\"Escribe una vocal\")\n",
    "\n",
    "# Conversión de la vocal a mayúscula:\n",
    "vocal_mayus = vocal.upper()\n",
    "\n",
    "# Reemplazo de vocal por vocal con mayúscula:\n",
    "print(frase.replace(vocal, vocal_mayus))"
   ]
  },
  {
   "cell_type": "code",
   "execution_count": 47,
   "metadata": {},
   "outputs": [
    {
     "name": "stdout",
     "output_type": "stream",
     "text": [
      "['peras', 'manzanas', 'naranjas']\n",
      "peras\n",
      "manzanas\n",
      "naranjas\n"
     ]
    }
   ],
   "source": [
    "# Lista de la compra:\n",
    "lista_compra = input(\"¿Qué necesitas ir a comprar?\")\n",
    "\n",
    "# Lista de la compra separada por \",\":\n",
    "lista_compra = lista_compra.replace(\" \", \"\")\n",
    "lista_compra = lista_compra.split(\",\")\n",
    "print(lista_compra)\n",
    "\n",
    "# Elementos de la lista por línea:\n",
    "elementos = \"\\n\".join(lista_compra)\n",
    "print(elementos)"
   ]
  }
 ],
 "metadata": {
  "kernelspec": {
   "display_name": "adalabenv",
   "language": "python",
   "name": "python3"
  },
  "language_info": {
   "codemirror_mode": {
    "name": "ipython",
    "version": 3
   },
   "file_extension": ".py",
   "mimetype": "text/x-python",
   "name": "python",
   "nbconvert_exporter": "python",
   "pygments_lexer": "ipython3",
   "version": "3.9.7"
  }
 },
 "nbformat": 4,
 "nbformat_minor": 2
}
