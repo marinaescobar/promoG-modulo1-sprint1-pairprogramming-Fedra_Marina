{
 "cells": [
  {
   "cell_type": "code",
   "execution_count": 2,
   "metadata": {},
   "outputs": [
    {
     "name": "stdout",
     "output_type": "stream",
     "text": [
      "el numero es positivo\n"
     ]
    }
   ],
   "source": [
    "# 1. Verificar si un numero es positivo, negativo o cero\n",
    "\n",
    "numero = 10\n",
    "\n",
    "if numero < 0: \n",
    "    print(\"El numero es negativo\")\n",
    "\n",
    "elif numero > 0: \n",
    "    print(\"El numero es positivo\")\n",
    "\n",
    "else:\n",
    "    print(\"El numero es cero\")\n"
   ]
  },
  {
   "cell_type": "code",
   "execution_count": 3,
   "metadata": {},
   "outputs": [
    {
     "name": "stdout",
     "output_type": "stream",
     "text": [
      "el numero es par\n"
     ]
    }
   ],
   "source": [
    "# 2. Verificar si un numero es par o impar \n",
    "\n",
    "if numero % 2 == 0:\n",
    "    print(\"el numero es par\")\n",
    "\n",
    "else:\n",
    "    print(\"el numero es impar\")\n",
    "    \n",
    "\n",
    "\n"
   ]
  },
  {
   "cell_type": "code",
   "execution_count": 9,
   "metadata": {},
   "outputs": [
    {
     "name": "stdout",
     "output_type": "stream",
     "text": [
      "Has aprobado\n"
     ]
    }
   ],
   "source": [
    "# 3. Verificar si un estudiante aprobo o suspendio un examen\n",
    "# Si la calificacion es >=60 aprobado, si la calificacion es <60 suspendido\n",
    "\n",
    "calificacion = int(input(\"Indica cuál fue tu calificación\"))\n",
    "\n",
    "if calificacion >= 60:\n",
    "    print(\"Has aprobado\")\n",
    "\n",
    "else: \n",
    "    print(\"Has suspendido\")\n",
    "    "
   ]
  },
  {
   "cell_type": "code",
   "execution_count": 6,
   "metadata": {},
   "outputs": [
    {
     "name": "stdout",
     "output_type": "stream",
     "text": [
      "Entre los dos números que has introducido, el máximo es 10\n"
     ]
    }
   ],
   "source": [
    "# 4. Calcular el maximo entre dos numeros \n",
    "\n",
    "numero3 = int(input(\"Escoge un número\"))\n",
    "numero4 = int(input(\"Escoge otro número\"))\n",
    "\n",
    "if numero3 > numero4:\n",
    "    print(f\"Entre los dos números que has introducido, el máximo es {numero3}\")\n",
    "\n",
    "else:\n",
    "    print(f\"Entre los dos números que has introducido, el máximo es {numero4}\")\n"
   ]
  },
  {
   "cell_type": "code",
   "execution_count": 5,
   "metadata": {},
   "outputs": [
    {
     "name": "stdout",
     "output_type": "stream",
     "text": [
      "Es una vocal\n"
     ]
    }
   ],
   "source": [
    "# 5. Verificar si una letra es vocal o consonante\n",
    "\n",
    "vocales = [\"A\",\"E\",\"I\",\"O\",\"U\"]\n",
    "letra = input(\"Escoge una letra\")\n",
    "\n",
    "if letra.upper() in vocales: \n",
    "    print(\"Es una vocal\")\n",
    "\n",
    "else: \n",
    "    print(\"Es una consonante\")\n"
   ]
  },
  {
   "cell_type": "code",
   "execution_count": 8,
   "metadata": {},
   "outputs": [
    {
     "name": "stdout",
     "output_type": "stream",
     "text": [
      "Tu descuento será de 50.0$\n"
     ]
    }
   ],
   "source": [
    "# 6. Calcular el descuento en una compra según el monto total\n",
    "# Condiciones: si el monto es >= 100 dolares el descuento es del 10%, y sino, no hay descuento.\n",
    "\n",
    "monto = float(input(\"¿Cuánto dinero vas a gastar?\"))\n",
    "\n",
    "if monto >= 100: \n",
    "    descuento= monto * 0.10 \n",
    "    print(f\"Tu descuento será de {descuento}$\")\n",
    "\n",
    "else:\n",
    "    print(\"No hay descuento\")"
   ]
  },
  {
   "cell_type": "code",
   "execution_count": 13,
   "metadata": {},
   "outputs": [
    {
     "name": "stdout",
     "output_type": "stream",
     "text": [
      "El año 2024 es bisiesto\n"
     ]
    }
   ],
   "source": [
    "# 7. verifica si un año es bisiesto o no\n",
    "# Si es bisiesto tiene que ser divisible entre 4 excepto aquellos divisibles entre 100 pero no entre 400 \n",
    "\n",
    "año = int(input(\"Indica el año a comprobar\"))\n",
    "\n",
    "if (año % 4 == 0 and año % 100 != 0) or (año % 400 == 0):\n",
    "    print(f\"El año {año} es bisiesto\")\n",
    "\n",
    "else:\n",
    "    print(f\"El año {año} no es bisiesto\")\n",
    "\n",
    "\n",
    " "
   ]
  },
  {
   "cell_type": "code",
   "execution_count": 14,
   "metadata": {},
   "outputs": [
    {
     "name": "stdout",
     "output_type": "stream",
     "text": [
      "Con 36 eres considerado/a adulto/a\n"
     ]
    }
   ],
   "source": [
    "# 8. asignar una categoria a una edad, si la edad es < 18, la categoria es menor de edad y si la edad esta entre 18 y 64, entonces es adulto y el resto adulto mayor\n",
    "\n",
    "edad = int(input(\"Indica tu edad\"))\n",
    "\n",
    "if edad < 18: \n",
    "    categoria = \"menor de edad\"\n",
    "\n",
    "elif edad <= 64:\n",
    "    categoria = \"adulto/a\"\n",
    "\n",
    "else:\n",
    "    categoria = \"adulto/a mayor\"\n",
    "\n",
    "print(f\"Con {edad} eres considerado/a {categoria}\")\n",
    "\n"
   ]
  },
  {
   "cell_type": "code",
   "execution_count": 19,
   "metadata": {},
   "outputs": [
    {
     "name": "stdout",
     "output_type": "stream",
     "text": [
      "El 4, el 3 y el 5 forman un triangulo rectangulo\n"
     ]
    }
   ],
   "source": [
    "# 9. verificar si 3 numero forman un triangulo rectangulo \n",
    "# Dado 3 numeros verifica si se cumple el teorema de pitagoras \n",
    "\n",
    "cateto1 = int(input(\"Escoge el primer número\"))\n",
    "cateto2 = int(input(\"Escoge el segundo número\"))\n",
    "hipotenusa = int(input(\"Escoge el tercer número\"))\n",
    "\n",
    "if hipotenusa ** 2 == (cateto1 ** 2 + cateto2 ** 2):\n",
    "    print(f\"El {cateto1}, el {cateto2} y el {hipotenusa} forman un triangulo rectangulo\")\n",
    "\n",
    "else: \n",
    "    print(\"No se cumple el teorema de Pitágoras\")\n",
    "\n",
    "\n",
    "\n",
    "\n"
   ]
  },
  {
   "cell_type": "code",
   "execution_count": 21,
   "metadata": {},
   "outputs": [
    {
     "name": "stdout",
     "output_type": "stream",
     "text": [
      "Con una puntuación de 92, tu calificación es A\n"
     ]
    }
   ],
   "source": [
    "# 10. Asignar una calificacion a una puntuacion: si la puntuacion es >= 90 es \"A\", si es >=80 es \"B\",  si es >=70 \"C\", si es >=60  es \"D\" y el resto es \"F\"\n",
    "\n",
    "puntuacion = int(input(\"indica tu puntuacion\"))\n",
    "\n",
    "\n",
    "if puntuacion >= 90:\n",
    "    calificacion = \"A\"\n",
    "\n",
    "elif puntuacion >= 80:\n",
    "    calificacion = \"B\"\n",
    "\n",
    "elif puntuacion >= 70:\n",
    "    calificacion = \"C\"\n",
    "\n",
    "elif puntuacion >= 60:\n",
    "    calificacion = \"D\"\n",
    "\n",
    "else: \n",
    "    calificacion = \"F\"\n",
    "\n",
    "\n",
    "print(f\"Con una puntuación de {puntuacion}, tu calificación es {calificacion}\") "
   ]
  },
  {
   "cell_type": "code",
   "execution_count": 24,
   "metadata": {},
   "outputs": [
    {
     "name": "stdout",
     "output_type": "stream",
     "text": [
      "Con un peso de 55.0kg y una altura de 1.58m, tu IMC es 22.03 por lo que estarías en peso normal\n"
     ]
    }
   ],
   "source": [
    "# 11. calcular el IMC y categorizarlo, si IMC < 18.5 es \"bajo peso\", si IMC esta entre 18.5 y 24.9 entonces es \"peso normal\" si esta entre 25 y 29.9 entonces es \"sobrepeso\" y sino obesidad \n",
    "\n",
    "peso = float(input(\"Indica tu peso en kg\")) \n",
    "altura = float(input(\"Indica tu altura en metros\"))\n",
    "imc = round(peso / altura ** 2 , 2)\n",
    "\n",
    "if imc < 18.5:\n",
    "    categoria = \"bajo peso\"\n",
    "\n",
    "elif imc <= 24.9: \n",
    "    categoria = \"peso normal\"\n",
    "\n",
    "elif imc <= 29.9: \n",
    "    categoria = \"sobrepeso\"\n",
    "\n",
    "else:\n",
    "    categoria = \"obesidad\"\n",
    "\n",
    "print(f\"Con un peso de {peso}kg y una altura de {altura}m, tu IMC es {imc} por lo que estarías en {categoria}\")"
   ]
  },
  {
   "cell_type": "code",
   "execution_count": 25,
   "metadata": {},
   "outputs": [
    {
     "name": "stdout",
     "output_type": "stream",
     "text": [
      "El mayor es 45\n"
     ]
    }
   ],
   "source": [
    "#12. Calcular el mayor de tres numeros \n",
    "\n",
    "n1 = 45\n",
    "n2 = 10\n",
    "n3 = 34\n",
    "\n",
    "if n1 > n2 and n1 > n3:\n",
    "    print(\"El mayor es\", n1)\n",
    "\n",
    "elif n2 > n1 and n2 > n3: \n",
    "    print(\"El mayor es\", n2)\n",
    "\n",
    "else: \n",
    "    print(\"El mayor es\", n3)\n"
   ]
  },
  {
   "cell_type": "code",
   "execution_count": 8,
   "metadata": {},
   "outputs": [
    {
     "name": "stdout",
     "output_type": "stream",
     "text": [
      "La fecha 29/2/2023 no es válida\n"
     ]
    }
   ],
   "source": [
    "# BONUS: 13. Sentencias de control: Verificar la validez de una fecha\n",
    "# Dados el día, el mes y el año de una fecha, verifica si es válida\n",
    "\n",
    "dia = int(input(\"Indica un día\"))\n",
    "mes = int(input(\"Indica un mes\"))\n",
    "año = int(input(\"Indica un año\"))\n",
    "\n",
    "# Verificación del año (si es bisiesto o no):\n",
    "\n",
    "if (año % 4 == 0 and año % 100 != 0) or (año % 400 == 0):\n",
    "    bisiesto = True\n",
    "\n",
    "else:\n",
    "    bisiesto = False\n",
    "\n",
    "# Verificación del mes:\n",
    "\n",
    "if mes < 0 or mes > 12:\n",
    "    print(f\"La fecha {dia}/{mes}/{año} no es válida\")\n",
    "\n",
    "# Verificación del día:\n",
    "\n",
    "dias = [0 , 31 , 28 , 31 , 30 , 31 , 30 , 31 , 31 , 30 , 31 , 30 , 31]\n",
    "## (Como se pretende que el índice sea equivalente al mes, el primer valor de la lista es 0 ya que no existe el mes 0)\n",
    "\n",
    "if bisiesto and mes == 2:\n",
    "    dias[2] = 29\n",
    "\n",
    "if dia < 0 or dia > dias[mes]:\n",
    "    print(f\"La fecha {dia}/{mes}/{año} no es válida\")\n",
    "\n",
    "else: \n",
    "    print(f\"La fecha {dia}/{mes}/{año} es válida :)\")\n",
    "\n"
   ]
  }
 ],
 "metadata": {
  "kernelspec": {
   "display_name": "base",
   "language": "python",
   "name": "python3"
  },
  "language_info": {
   "codemirror_mode": {
    "name": "ipython",
    "version": 3
   },
   "file_extension": ".py",
   "mimetype": "text/x-python",
   "name": "python",
   "nbconvert_exporter": "python",
   "pygments_lexer": "ipython3",
   "version": "3.9.7"
  }
 },
 "nbformat": 4,
 "nbformat_minor": 2
}
